{
 "cells": [
  {
   "cell_type": "markdown",
   "metadata": {},
   "source": [
    "思路：\n",
    "1. 能够将fractureZone中的lat数据提出，放在矩正lat[]中\n",
    "2. 将marStandardized中的所有数据放在一个矩正中\n",
    "3. 对比marStandardized矩正中的每一个latitude[j]是否落在lat[i]和lat[i+1]的中间<br>\n",
    "    如果是，则将这些数据标注为i，并j+1<br>\n",
    "    如果不是，则ℹ️=i+1来检查这个数据是否落在下一个区间中<br>\n",
    "        如果是，则将这些数据标注为i，并j+1。。。"
   ]
  },
  {
   "cell_type": "code",
   "execution_count": 1,
   "metadata": {},
   "outputs": [],
   "source": [
    "# import the libraries\n",
    "import numpy as np\n",
    "import pandas as pd\n",
    "import matplotlib.pyplot as plt"
   ]
  },
  {
   "cell_type": "code",
   "execution_count": 2,
   "metadata": {},
   "outputs": [
    {
     "data": {
      "text/plain": [
       "array([-55.185, -40.637, -38.388, -29.081, -18.594, -17.721, -16.617,\n",
       "       -16.271, -14.076, -11.686,  -6.928,  -1.213,  -0.49 ,   0.661,\n",
       "         2.532,   3.933,   6.23 ,   7.135,   7.693,   8.119,   8.855,\n",
       "        10.726,  12.132,  12.611,  15.32 ,  17.832,  18.541,  18.967,\n",
       "        20.616,  23.718,  25.689,  29.365,  30.068,  32.323,  33.059,\n",
       "        33.615,  35.149,  36.641,  37.468,  40.537,  47.636,  49.711,\n",
       "        52.624,  56.721,  71.372,  74.04 ])"
      ]
     },
     "execution_count": 2,
     "metadata": {},
     "output_type": "execute_result"
    }
   ],
   "source": [
    "# import the data\n",
    "dataset = pd.read_csv('fractureZone.csv')\n",
    "lat = dataset.iloc[:, 3].values\n",
    "lat"
   ]
  },
  {
   "cell_type": "code",
   "execution_count": 3,
   "metadata": {},
   "outputs": [
    {
     "data": {
      "text/plain": [
       "(46,)"
      ]
     },
     "execution_count": 3,
     "metadata": {},
     "output_type": "execute_result"
    }
   ],
   "source": [
    "lat.shape"
   ]
  },
  {
   "cell_type": "code",
   "execution_count": 4,
   "metadata": {},
   "outputs": [
    {
     "data": {
      "text/plain": [
       "(300,)"
      ]
     },
     "execution_count": 4,
     "metadata": {},
     "output_type": "execute_result"
    }
   ],
   "source": [
    "# import the data\n",
    "dataset = pd.read_csv('marStandardized.csv')\n",
    "latMAR = dataset.iloc[:, 1].values\n",
    "latMAR.shape"
   ]
  },
  {
   "cell_type": "code",
   "execution_count": 6,
   "metadata": {},
   "outputs": [
    {
     "name": "stdout",
     "output_type": "stream",
     "text": [
      "[ 222.  222.  222.  222.  222.  222.  222.   44.   44.   44.   44.   44.\n",
      "   44.   44.   44.   44.   44.   44.   44.   44.   44.   44.   44.   44.\n",
      "   44.   43.   43.   43.   43.   43.   43.   43.   43.   43.   43.   43.\n",
      "   43.   43.   43.   43.   43.   43.   43.   43.   43.   43.   43.   43.\n",
      "   43.   43.   43.   43.   43.   43.   43.   43.   43.   43.   43.   43.\n",
      "   43.   43.   43.   43.   43.   43.   43.   43.   43.   43.   43.   43.\n",
      "   43.   43.   43.   43.   43.   43.   43.   43.   43.   43.   43.   43.\n",
      "   43.   43.   42.   42.   42.   41.   41.   41.   41.   41.   41.   41.\n",
      "   40.   40.   39.   39.   39.   39.   39.   39.   39.   39.   39.   39.\n",
      "   38.   38.   38.   38.   38.   38.   38.   38.   38.   38.   38.   38.\n",
      "   38.   38.   37.   37.   37.   36.   36.   36.   35.   34.   33.   33.\n",
      "   32.   32.   32.   31.   31.   30.   15.   15.   15.   14.   14.   14.\n",
      "   13.   13.   13.   13.   13.   13.   13.   13.   13.   13.   13.   12.\n",
      "   12.   11.   11.   11.   10.   10.   10.   10.   10.   10.   10.    9.\n",
      "    9.    9.    9.    9.    7.    7.    7.    3.    2.    2.    2.    1.\n",
      "    1.    1.    0.    0.    0.    0.    0.    0.    0.    0.    0.    0.\n",
      "    0.    0.    0.    0.    0.    0.    0.    0.    0.    0.    0.    0.\n",
      "    0.    0.    0.    0.    0.    0.    0.    0.    0.    0.    0.    0.\n",
      "    0.    0.    0.    0.    0.    0.    0.    0.    0.    0.    0.    0.\n",
      "    0.    0.    0.    0.    0.    0.    0.    0.    0.    0.    0.    0.\n",
      "    0.    0.    0.    0.    0.    0.    0.    0.    0.    0.    0.    0.\n",
      "    0.    0.    0.    0.    0.    0.    0.    0.    0.    0.    0.    0.\n",
      "    0.    0.    0.    0.    0.    0.    0.    0.    0.    0.    0.    0.\n",
      "    0.    0.    0.    0.    0.    0.    0.    0.    0.    0.    0.    0.\n",
      "    0.    0.    0.    0.    0.    0.    0.    0.    0.    0.    0.    0.]\n"
     ]
    }
   ],
   "source": [
    "j = 0\n",
    "i = 0\n",
    "section = np.empty(300,)\n",
    "for j in range(0,300):\n",
    "    if latMAR[j]<min(lat):\n",
    "        section[j] = 111\n",
    "        j+=1\n",
    "    elif latMAR[j]>=max(lat):\n",
    "        section[j] = 222\n",
    "        j+=1\n",
    "    else:\n",
    "        i == 0\n",
    "        for i in range (0,46):\n",
    "            if latMAR[j]>= lat[i] and latMAR[j]<lat[i+1]:\n",
    "                section[j] = i\n",
    "                #j = j+1\n",
    "            else:\n",
    "                i += 1\n",
    "print(section)\n",
    "#whole_data = np.append(latMAR,section)\n",
    "#print(whole_data)"
   ]
  },
  {
   "cell_type": "code",
   "execution_count": 7,
   "metadata": {},
   "outputs": [],
   "source": [
    "np.savetxt('newSection.csv', section, delimiter = ',')  "
   ]
  },
  {
   "cell_type": "code",
   "execution_count": null,
   "metadata": {},
   "outputs": [],
   "source": []
  }
 ],
 "metadata": {
  "kernelspec": {
   "display_name": "Python 3",
   "language": "python",
   "name": "python3"
  },
  "language_info": {
   "codemirror_mode": {
    "name": "ipython",
    "version": 3
   },
   "file_extension": ".py",
   "mimetype": "text/x-python",
   "name": "python",
   "nbconvert_exporter": "python",
   "pygments_lexer": "ipython3",
   "version": "3.6.3"
  }
 },
 "nbformat": 4,
 "nbformat_minor": 2
}
